{
  "nbformat": 4,
  "nbformat_minor": 0,
  "metadata": {
    "colab": {
      "provenance": []
    },
    "kernelspec": {
      "name": "python3",
      "display_name": "Python 3"
    },
    "language_info": {
      "name": "python"
    }
  },
  "cells": [
    {
      "cell_type": "code",
      "source": [
        "a = 1+2j\n",
        "b = 3+4j"
      ],
      "metadata": {
        "id": "hBJrDk3_vjwR"
      },
      "execution_count": 73,
      "outputs": []
    },
    {
      "cell_type": "code",
      "source": [
        "print(a*b)"
      ],
      "metadata": {
        "colab": {
          "base_uri": "https://localhost:8080/"
        },
        "id": "SjKEsSiNvjtS",
        "outputId": "40ad243d-1ffe-4c83-8a6e-bfcedbabf627"
      },
      "execution_count": 74,
      "outputs": [
        {
          "output_type": "stream",
          "name": "stdout",
          "text": [
            "(-5+10j)\n"
          ]
        }
      ]
    },
    {
      "cell_type": "code",
      "source": [],
      "metadata": {
        "id": "v67BHX8IvjiG"
      },
      "execution_count": 74,
      "outputs": []
    },
    {
      "cell_type": "code",
      "execution_count": 75,
      "metadata": {
        "id": "xBAI3bEOeDPa"
      },
      "outputs": [],
      "source": [
        "class ComplexNumber:\n",
        "  def __init__(self,real = 0 ,imag = 0):\n",
        "    self.real = real\n",
        "    self.imag = imag\n",
        "\n",
        "\n",
        "  def __str__(self):\n",
        "    if self.real == 0:\n",
        "      s = f\"{self.imag}i\"\n",
        "    elif (self.imag < 0):\n",
        "      s = f\"({self.real}{self.imag}i)\"\n",
        "    else:\n",
        "      s = f\"({self.real}+{self.imag}i)\"\n",
        "    return s\n",
        "\n",
        "  def __add__(arg1,arg2):\n",
        "    real = 0\n",
        "    imag = 0\n",
        "    real = arg1.real + arg2.real\n",
        "    imag = arg1.imag + arg2.imag\n",
        "    ans = ComplexNumber(real,imag)\n",
        "    return ans\n",
        "\n",
        "\n",
        "\n",
        "\n",
        "  def conjugate(self):\n",
        "    imag = self.imag * -1\n",
        "    print(f\"({self.real}+{imag}i)\")\n",
        "\n",
        "\n"
      ]
    },
    {
      "cell_type": "markdown",
      "source": [
        "#### Details of above code commented to understand how to create the own complexnumber class using python oops"
      ],
      "metadata": {
        "id": "Eh6bVU8zUTQ8"
      }
    },
    {
      "cell_type": "code",
      "source": [
        "# Define a class to represent complex numbers\n",
        "class ComplexNumber:\n",
        "    # Initialize the complex number with real and imaginary parts\n",
        "    def __init__(self, real=0, imag=0):\n",
        "        # Assign the real part\n",
        "        self.real = real\n",
        "        # Assign the imaginary part\n",
        "        self.imag = imag\n",
        "\n",
        "    # Define the string representation of the complex number\n",
        "    def __str__(self):\n",
        "        # If the real part is zero, return only the imaginary part as a string\n",
        "        if self.real == 0:\n",
        "            s = f\"{self.imag}i\"\n",
        "        # If the imaginary part is negative, format the output with parentheses\n",
        "        elif self.imag < 0:\n",
        "            s = f\"({self.real}{self.imag}i)\"\n",
        "        # Otherwise, include both real and imaginary parts with a '+' sign\n",
        "        else:\n",
        "            s = f\"({self.real}+{self.imag}i)\"\n",
        "        return s  # Return the formatted string\n",
        "\n",
        "    # Define addition for two complex numbers\n",
        "    def __add__(arg1, arg2):\n",
        "        # Initialize variables for the result's real and imaginary parts\n",
        "        real = 0\n",
        "        imag = 0\n",
        "        # Add the real parts of the two complex numbers\n",
        "        real = arg1.real + arg2.real\n",
        "        # Add the imaginary parts of the two complex numbers\n",
        "        imag = arg1.imag + arg2.imag\n",
        "        # Create a new ComplexNumber instance for the result\n",
        "        ans = ComplexNumber(real, imag)\n",
        "        return ans  # Return the resulting complex number\n",
        "\n",
        "    # Define a method to compute the conjugate of the complex number\n",
        "    def conjugate(self):\n",
        "        # The conjugate of a complex number is obtained by negating the imaginary part\n",
        "        imag = self.imag * -1\n",
        "        # Print the conjugate in the format \"(real+imaginary part)\"\n",
        "        print(f\"({self.real}+{imag}i)\")\n"
      ],
      "metadata": {
        "id": "s0JLlvlzURzI"
      },
      "execution_count": null,
      "outputs": []
    },
    {
      "cell_type": "code",
      "source": [
        "\n",
        "cn1 = ComplexNumber(-6,-4)\n",
        "\n",
        "cn1.real,cn1.imag"
      ],
      "metadata": {
        "colab": {
          "base_uri": "https://localhost:8080/"
        },
        "id": "gKiqqUv8jJuG",
        "outputId": "d54960b4-915e-4ab1-e151-a3d6cd8acf69"
      },
      "execution_count": 76,
      "outputs": [
        {
          "output_type": "execute_result",
          "data": {
            "text/plain": [
              "(-6, -4)"
            ]
          },
          "metadata": {},
          "execution_count": 76
        }
      ]
    },
    {
      "cell_type": "code",
      "source": [
        "print(cn1)"
      ],
      "metadata": {
        "colab": {
          "base_uri": "https://localhost:8080/"
        },
        "id": "mY_J_hYQlRoa",
        "outputId": "5c49d9ce-335d-4097-f31c-b14c1af52b51"
      },
      "execution_count": 77,
      "outputs": [
        {
          "output_type": "stream",
          "name": "stdout",
          "text": [
            "(-6-4i)\n"
          ]
        }
      ]
    },
    {
      "cell_type": "code",
      "source": [
        "cn2 = ComplexNumber(5,6)"
      ],
      "metadata": {
        "id": "jqQESdIujPPv"
      },
      "execution_count": 78,
      "outputs": []
    },
    {
      "cell_type": "code",
      "source": [
        "print(cn1 + cn2)"
      ],
      "metadata": {
        "id": "sj7p2najjyGH",
        "colab": {
          "base_uri": "https://localhost:8080/"
        },
        "outputId": "9285cd5b-2742-4939-90d7-0c336169f656"
      },
      "execution_count": 79,
      "outputs": [
        {
          "output_type": "stream",
          "name": "stdout",
          "text": [
            "(-1+2i)\n"
          ]
        }
      ]
    },
    {
      "cell_type": "code",
      "source": [
        "class ComplexNumber:\n",
        "  def __init__(self,real = 0 ,imag = 0):\n",
        "    self.real = real\n",
        "    self.imag = imag\n",
        "\n",
        "\n",
        "  def __str__(self):\n",
        "    if self.real == 0:\n",
        "      s = f\"{self.imag}i\"\n",
        "    elif (self.imag < 0):\n",
        "      s = f\"{self.real}{self.imag}i\"\n",
        "    else:\n",
        "      s = f\"{self.real}+{self.imag}i\"\n",
        "    return s\n",
        "\n",
        "  def __add__(self,other):\n",
        "    resultreal = 0\n",
        "    resultimag = 0\n",
        "    resultreal = self.real + other.real\n",
        "    resultimag = self.imag + other.imag\n",
        "    ans = ComplexNumber(resultreal,resultimag)\n",
        "    return ans\n",
        "\n",
        "  def __sub__(self,other):\n",
        "    resultreal = 0\n",
        "    resultimag = 0\n",
        "    resultreal = self.real - other.real\n",
        "    resultimag = self.imag - other.imag\n",
        "    ans = ComplexNumber(resultreal,resultimag)\n",
        "    return ans\n",
        "\n",
        "  def __mul__(self,other):\n",
        "    resultreal = 0\n",
        "    resultimag = 0\n",
        "    resultreal = self.real *other.real - self.imag*other.imag\n",
        "    resultimag = self.real*other.imag + other.real*self.imag\n",
        "\n",
        "    ans = ComplexNumber(resultreal,resultimag)\n",
        "\n",
        "    return ans\n",
        "\n",
        "\n",
        "  def __truediv__(self,other):\n",
        "    resultreal = 0\n",
        "    resultimag = 0\n",
        "    den = other.real**2 + other.imag**2\n",
        "    ans = (self.real + self.imag) * (other.real - other.imag)\n",
        "    return ans/den\n",
        "\n",
        "  def conjugate(self):\n",
        "    return ComplexNumber(self.real,-1*self.imag)\n",
        "\n",
        "\n",
        "  def __eq__(self,other):\n",
        "    return self.real == other.real and self.imag == other.imag"
      ],
      "metadata": {
        "id": "C6PFb4g3ssJw"
      },
      "execution_count": 80,
      "outputs": []
    },
    {
      "cell_type": "markdown",
      "source": [
        "####Details of above code commented to understand how to create the own complexnumber class using python oops"
      ],
      "metadata": {
        "id": "pWgtubMrUvl2"
      }
    },
    {
      "cell_type": "code",
      "source": [
        "# Define a class to represent complex numbers\n",
        "class ComplexNumber:\n",
        "    # Initialize the complex number with real and imaginary parts\n",
        "    def __init__(self, real=0, imag=0):\n",
        "        # Assign the real part\n",
        "        self.real = real\n",
        "        # Assign the imaginary part\n",
        "        self.imag = imag\n",
        "\n",
        "    # Define the string representation of the complex number\n",
        "    def __str__(self):\n",
        "        # If the real part is zero, display only the imaginary part\n",
        "        if self.real == 0:\n",
        "            s = f\"{self.imag}i\"\n",
        "        # If the imaginary part is negative, format it without a '+' sign\n",
        "        elif self.imag < 0:\n",
        "            s = f\"{self.real}{self.imag}i\"\n",
        "        # Otherwise, format it with a '+' sign for the imaginary part\n",
        "        else:\n",
        "            s = f\"{self.real}+{self.imag}i\"\n",
        "        return s  # Return the formatted string\n",
        "\n",
        "    # Define addition of two complex numbers\n",
        "    def __add__(self, other):\n",
        "        # Initialize variables for the result's real and imaginary parts\n",
        "        resultreal = 0\n",
        "        resultimag = 0\n",
        "        # Add the real parts of the two complex numbers\n",
        "        resultreal = self.real + other.real\n",
        "        # Add the imaginary parts of the two complex numbers\n",
        "        resultimag = self.imag + other.imag\n",
        "        # Create a new ComplexNumber instance for the result\n",
        "        ans = ComplexNumber(resultreal, resultimag)\n",
        "        return ans  # Return the resulting complex number\n",
        "\n",
        "    # Define subtraction of two complex numbers\n",
        "    def __sub__(self, other):\n",
        "        # Initialize variables for the result's real and imaginary parts\n",
        "        resultreal = 0\n",
        "        resultimag = 0\n",
        "        # Subtract the real parts of the two complex numbers\n",
        "        resultreal = self.real - other.real\n",
        "        # Subtract the imaginary parts of the two complex numbers\n",
        "        resultimag = self.imag - other.imag\n",
        "        # Create a new ComplexNumber instance for the result\n",
        "        ans = ComplexNumber(resultreal, resultimag)\n",
        "        return ans  # Return the resulting complex number\n",
        "\n",
        "    # Define multiplication of two complex numbers\n",
        "    def __mul__(self, other):\n",
        "        # Initialize variables for the result's real and imaginary parts\n",
        "        resultreal = 0\n",
        "        resultimag = 0\n",
        "        # Compute the real part of the product\n",
        "        resultreal = self.real * other.real - self.imag * other.imag\n",
        "        # Compute the imaginary part of the product\n",
        "        resultimag = self.real * other.imag + other.real * self.imag\n",
        "        # Create a new ComplexNumber instance for the result\n",
        "        ans = ComplexNumber(resultreal, resultimag)\n",
        "        return ans  # Return the resulting complex number\n",
        "\n",
        "    # Define division of two complex numbers\n",
        "    def __truediv__(self, other):\n",
        "        # Initialize variables for the result's real and imaginary parts\n",
        "        resultreal = 0\n",
        "        resultimag = 0\n",
        "        # Compute the denominator as the sum of squares of the real and imaginary parts of the divisor\n",
        "        den = other.real**2 + other.imag**2\n",
        "        # Compute the numerator using the conjugate of the divisor\n",
        "        ans = (self.real + self.imag) * (other.real - other.imag)\n",
        "        # Divide the result by the denominator to get the final result\n",
        "        return ans / den  # Return the resulting value\n",
        "\n",
        "    # Define the conjugate of a complex number\n",
        "    def conjugate(self):\n",
        "        # The conjugate is obtained by negating the imaginary part\n",
        "        return ComplexNumber(self.real, -1 * self.imag)\n",
        "\n",
        "    # Define equality comparison between two complex numbers\n",
        "    def __eq__(self, other):\n",
        "        # Two complex numbers are equal if their real and imaginary parts match\n",
        "        return self.real == other.real and self.imag == other.imag\n"
      ],
      "metadata": {
        "id": "H_PCnLFzUuLs"
      },
      "execution_count": null,
      "outputs": []
    },
    {
      "cell_type": "code",
      "source": [
        "\n",
        "cn1 = ComplexNumber(3,4)\n",
        "\n",
        "cn1.real,cn1.imag"
      ],
      "metadata": {
        "colab": {
          "base_uri": "https://localhost:8080/"
        },
        "id": "mFj8kgW7txRF",
        "outputId": "4809c2c0-e0b9-4ceb-ae7a-f359c9a8f493"
      },
      "execution_count": 81,
      "outputs": [
        {
          "output_type": "execute_result",
          "data": {
            "text/plain": [
              "(3, 4)"
            ]
          },
          "metadata": {},
          "execution_count": 81
        }
      ]
    },
    {
      "cell_type": "code",
      "source": [
        "cn2 = ComplexNumber(4,5)"
      ],
      "metadata": {
        "id": "Sk7TB4y1t31J"
      },
      "execution_count": 82,
      "outputs": []
    },
    {
      "cell_type": "code",
      "source": [
        "print(cn1 + cn2)"
      ],
      "metadata": {
        "colab": {
          "base_uri": "https://localhost:8080/"
        },
        "id": "QEDn0zuht6ut",
        "outputId": "b7f88d63-82b0-4cd3-dd1c-16dd9bf0ffb0"
      },
      "execution_count": 83,
      "outputs": [
        {
          "output_type": "stream",
          "name": "stdout",
          "text": [
            "7+9i\n"
          ]
        }
      ]
    },
    {
      "cell_type": "code",
      "source": [
        "print(cn1 - cn2)"
      ],
      "metadata": {
        "colab": {
          "base_uri": "https://localhost:8080/"
        },
        "id": "PWm9eLHfvHoB",
        "outputId": "ee11c8e4-bd94-4d9f-97a6-299833b55d93"
      },
      "execution_count": 84,
      "outputs": [
        {
          "output_type": "stream",
          "name": "stdout",
          "text": [
            "-1-1i\n"
          ]
        }
      ]
    },
    {
      "cell_type": "code",
      "source": [
        "print(cn2.conjugate())"
      ],
      "metadata": {
        "colab": {
          "base_uri": "https://localhost:8080/"
        },
        "id": "I2g0Uo7duKv5",
        "outputId": "76d967e8-a330-4d87-f7b9-7d522efb8827"
      },
      "execution_count": 85,
      "outputs": [
        {
          "output_type": "stream",
          "name": "stdout",
          "text": [
            "4-5i\n"
          ]
        }
      ]
    },
    {
      "cell_type": "code",
      "source": [
        "print(cn1 * cn2)"
      ],
      "metadata": {
        "colab": {
          "base_uri": "https://localhost:8080/"
        },
        "id": "D7iMckWLuP6X",
        "outputId": "5afe40f5-23b7-4453-be4d-fd774321ba44"
      },
      "execution_count": 86,
      "outputs": [
        {
          "output_type": "stream",
          "name": "stdout",
          "text": [
            "-8+31i\n"
          ]
        }
      ]
    },
    {
      "cell_type": "code",
      "source": [
        "print(cn1 / cn2)"
      ],
      "metadata": {
        "colab": {
          "base_uri": "https://localhost:8080/"
        },
        "id": "s0DkrkGnyXa_",
        "outputId": "9ce25af7-d722-4b0e-e55b-91dbff3c8d7b"
      },
      "execution_count": 87,
      "outputs": [
        {
          "output_type": "stream",
          "name": "stdout",
          "text": [
            "-0.17073170731707318\n"
          ]
        }
      ]
    },
    {
      "cell_type": "code",
      "source": [
        "#Test Case 1:\n",
        "complex1 = ComplexNumber(3, 4)\n",
        "complex2 = ComplexNumber(1, -2)\n",
        "assert str(complex1) == \"3+4i\"\n",
        "assert str(complex2) == \"1-2i\"\n",
        "assert str(complex1 + complex2) == \"4+2i\"\n",
        "assert str(complex1 - complex2) == \"2+6i\"\n",
        "assert str(complex1 * complex2) == \"11-2i\"\n",
        "#assert str(complex1 / complex2) == \"-1.0+2.0i\"\n",
        "assert complex1 != complex2"
      ],
      "metadata": {
        "id": "j2tTWqYf2B46"
      },
      "execution_count": 88,
      "outputs": []
    },
    {
      "cell_type": "code",
      "source": [
        "str(complex1)"
      ],
      "metadata": {
        "id": "BJPUBscB6c6z",
        "outputId": "f396cd6c-63f1-487e-9c65-c9e395f8ca56",
        "colab": {
          "base_uri": "https://localhost:8080/",
          "height": 36
        }
      },
      "execution_count": 89,
      "outputs": [
        {
          "output_type": "execute_result",
          "data": {
            "text/plain": [
              "'3+4i'"
            ],
            "application/vnd.google.colaboratory.intrinsic+json": {
              "type": "string"
            }
          },
          "metadata": {},
          "execution_count": 89
        }
      ]
    },
    {
      "cell_type": "code",
      "source": [
        "complex3 = ComplexNumber(-2, 5)\n",
        "complex4 = ComplexNumber(2, 3)\n",
        "assert str(complex3) == \"-2+5i\"\n",
        "assert str(complex4) == \"2+3i\"\n",
        "assert str(complex3 + complex4) == \"8i\"\n",
        "assert str(complex3 - complex4) == \"-4+2i\"\n",
        "assert str(complex3 * complex4) == \"-19+4i\"\n",
        "#assert str(complex3 / complex4) == \"1.0+i\"\n",
        "assert complex3 != complex4"
      ],
      "metadata": {
        "id": "ZaW-oZOv4ChU"
      },
      "execution_count": 90,
      "outputs": []
    },
    {
      "cell_type": "markdown",
      "source": [
        "######Details of above code commented to understand how to create the own complexnumber class using python oops"
      ],
      "metadata": {
        "id": "BDP4lIcgVCEg"
      }
    },
    {
      "cell_type": "code",
      "source": [
        "# Test Case 1:\n",
        "\n",
        "# Create the first complex number (3 + 4i)\n",
        "complex1 = ComplexNumber(3, 4)\n",
        "\n",
        "# Create the second complex number (1 - 2i)\n",
        "complex2 = ComplexNumber(1, -2)\n",
        "\n",
        "# Test the string representation of the first complex number\n",
        "assert str(complex1) == \"3+4i\"  # Expected output: \"3+4i\"\n",
        "\n",
        "# Test the string representation of the second complex number\n",
        "assert str(complex2) == \"1-2i\"  # Expected output: \"1-2i\"\n",
        "\n",
        "# Test the addition of two complex numbers\n",
        "# (3 + 4i) + (1 - 2i) = (3 + 1) + (4 - 2)i = 4 + 2i\n",
        "assert str(complex1 + complex2) == \"4+2i\"  # Expected output: \"4+2i\"\n",
        "\n",
        "# Test the subtraction of two complex numbers\n",
        "# (3 + 4i) - (1 - 2i) = (3 - 1) + (4 - (-2))i = 2 + 6i\n",
        "assert str(complex1 - complex2) == \"2+6i\"  # Expected output: \"2+6i\"\n",
        "\n",
        "# Test the multiplication of two complex numbers\n",
        "# (3 + 4i) * (1 - 2i) = (3*1 - 4*(-2)) + (3*(-2) + 4*1)i = 3 + 8 - 6 + 4i = 11 - 2i\n",
        "assert str(complex1 * complex2) == \"11-2i\"  # Expected output: \"11-2i\"\n",
        "\n",
        "# Test the division of two complex numbers\n",
        "# Uncomment the following line to test division once implemented accurately\n",
        "# (3 + 4i) / (1 - 2i) = [(3 + 4i) * (1 + 2i)] / [(1 - 2i) * (1 + 2i)]\n",
        "# = (-1.0 + 2.0i) after simplification\n",
        "# assert str(complex1 / complex2) == \"-1.0+2.0i\"  # Expected output: \"-1.0+2.0i\"\n",
        "\n",
        "# Test inequality comparison of two complex numbers\n",
        "# complex1 (3 + 4i) is not equal to complex2 (1 - 2i), so this should return True\n",
        "assert complex1 != complex2  # Expected: True\n"
      ],
      "metadata": {
        "id": "X83PJdafVBMN"
      },
      "execution_count": null,
      "outputs": []
    },
    {
      "cell_type": "code",
      "source": [
        "m= complex(-2, 5)\n",
        "n = complex(2, 3)\n",
        "\n",
        "print(m)"
      ],
      "metadata": {
        "colab": {
          "base_uri": "https://localhost:8080/"
        },
        "id": "r_3j6XO05Kca",
        "outputId": "9e7fa91b-e831-4f9d-cced-2b04e939eca4"
      },
      "execution_count": 91,
      "outputs": [
        {
          "output_type": "stream",
          "name": "stdout",
          "text": [
            "(-2+5j)\n"
          ]
        }
      ]
    },
    {
      "cell_type": "code",
      "source": [
        "m+n"
      ],
      "metadata": {
        "colab": {
          "base_uri": "https://localhost:8080/"
        },
        "id": "reeW8Tr15rmd",
        "outputId": "7063e878-5541-44d1-dc2b-7f43cfe00618"
      },
      "execution_count": 92,
      "outputs": [
        {
          "output_type": "execute_result",
          "data": {
            "text/plain": [
              "8j"
            ]
          },
          "metadata": {},
          "execution_count": 92
        }
      ]
    },
    {
      "cell_type": "code",
      "source": [
        "m * n"
      ],
      "metadata": {
        "colab": {
          "base_uri": "https://localhost:8080/"
        },
        "id": "cnM3bQbc6C4m",
        "outputId": "81cc989f-8219-46e0-bd37-f15f0880e69d"
      },
      "execution_count": 93,
      "outputs": [
        {
          "output_type": "execute_result",
          "data": {
            "text/plain": [
              "(-19+4j)"
            ]
          },
          "metadata": {},
          "execution_count": 93
        }
      ]
    },
    {
      "cell_type": "code",
      "source": [
        "#assert str(m * n) == \"-16-1i\""
      ],
      "metadata": {
        "id": "Jk0wBl6557dZ"
      },
      "execution_count": 94,
      "outputs": []
    },
    {
      "cell_type": "code",
      "source": [
        "#assert str(m+n) == \"0+8i\"\n",
        "\n"
      ],
      "metadata": {
        "id": "cJj37PvI5arO"
      },
      "execution_count": 95,
      "outputs": []
    },
    {
      "cell_type": "code",
      "source": [
        "###Student class instance and class variable\n",
        "\n",
        "class Student:\n",
        "  __numberofStudents = 0\n",
        "  schoolname = \"bjb\"\n",
        "\n",
        "  def __init__(self , name ,rollno , marks):\n",
        "    self.name  =  name\n",
        "    self.rollno = rollno\n",
        "    self.__marks = marks\n",
        "    self.numberofStudents = Student.__numberofStudents + 1\n",
        "    Student.__numberofStudents = Student.__numberofStudents +1\n",
        "\n",
        "  def getmarks(self):\n",
        "    return self.__marks\n",
        "  @classmethod\n",
        "  def get_no_of_students(Student):\n",
        "    return Student.__numberofStudents\n",
        "\n",
        "\n",
        "  def setmarks(self,newmarks,passcode):\n",
        "    if passcode == self.__auth():\n",
        "      self.__marks = newmarks\n",
        "    else:\n",
        "        print(\"wrong passcode\")\n",
        "\n",
        "  def __auth(self):\n",
        "    return \"1123\"\n",
        "\n",
        "\n",
        "  def study(self):\n",
        "    print(f\" I am \" +str(self.rollno)+\"I am studying \" )\n",
        "\n",
        "  def play(self):\n",
        "    print (\"i already studied going to play\")"
      ],
      "metadata": {
        "id": "KJp5beSD54ks"
      },
      "execution_count": 96,
      "outputs": []
    },
    {
      "cell_type": "code",
      "source": [
        "s1 = Student(\"sipun\",1234,69)\n",
        "s2 = Student(\"kapil\",4567,90)\n",
        "\n",
        "s1.numberofStudents,s2.numberofStudents"
      ],
      "metadata": {
        "colab": {
          "base_uri": "https://localhost:8080/"
        },
        "id": "vaRDVOHXlidw",
        "outputId": "5e21dcd4-d295-4a4f-d9a9-ac7e7bb5c467"
      },
      "execution_count": 97,
      "outputs": [
        {
          "output_type": "execute_result",
          "data": {
            "text/plain": [
              "(1, 2)"
            ]
          },
          "metadata": {},
          "execution_count": 97
        }
      ]
    },
    {
      "cell_type": "code",
      "source": [],
      "metadata": {
        "id": "lhDWDOfKVW2_"
      },
      "execution_count": null,
      "outputs": []
    },
    {
      "cell_type": "code",
      "source": [
        "print(Student.get_no_of_students())"
      ],
      "metadata": {
        "colab": {
          "base_uri": "https://localhost:8080/"
        },
        "id": "Y0CXpMkA301V",
        "outputId": "8b1e466e-d591-4884-f2d9-990f92f5d496"
      },
      "execution_count": 98,
      "outputs": [
        {
          "output_type": "stream",
          "name": "stdout",
          "text": [
            "2\n"
          ]
        }
      ]
    },
    {
      "cell_type": "code",
      "source": [
        "s1.numberofStudents"
      ],
      "metadata": {
        "colab": {
          "base_uri": "https://localhost:8080/"
        },
        "id": "GAv_OnLvxr8K",
        "outputId": "f23411ef-ea0d-4a89-9ac0-a483764064a2"
      },
      "execution_count": 99,
      "outputs": [
        {
          "output_type": "execute_result",
          "data": {
            "text/plain": [
              "1"
            ]
          },
          "metadata": {},
          "execution_count": 99
        }
      ]
    },
    {
      "cell_type": "code",
      "source": [
        "s1.getmarks()"
      ],
      "metadata": {
        "colab": {
          "base_uri": "https://localhost:8080/"
        },
        "id": "IHSRQPA4xu7y",
        "outputId": "7b5ccd43-b784-4a79-bd7b-5a733d14e693"
      },
      "execution_count": 100,
      "outputs": [
        {
          "output_type": "execute_result",
          "data": {
            "text/plain": [
              "69"
            ]
          },
          "metadata": {},
          "execution_count": 100
        }
      ]
    },
    {
      "cell_type": "code",
      "source": [],
      "metadata": {
        "id": "xa_bbDZr1BC6"
      },
      "execution_count": 100,
      "outputs": []
    },
    {
      "cell_type": "code",
      "source": [
        "s1.setmarks(100,'1123')"
      ],
      "metadata": {
        "id": "pH036UBhxxIB"
      },
      "execution_count": 101,
      "outputs": []
    },
    {
      "cell_type": "code",
      "source": [
        "s1.getmarks()"
      ],
      "metadata": {
        "colab": {
          "base_uri": "https://localhost:8080/"
        },
        "id": "UBU2iXMCyP5v",
        "outputId": "642c19df-692a-4d45-b7f2-b86b45b5f9d5"
      },
      "execution_count": 102,
      "outputs": [
        {
          "output_type": "execute_result",
          "data": {
            "text/plain": [
              "100"
            ]
          },
          "metadata": {},
          "execution_count": 102
        }
      ]
    },
    {
      "cell_type": "markdown",
      "source": [
        "Details of above code commented to understand how to create the own complexnumber class using python oops"
      ],
      "metadata": {
        "id": "8Cy6p6X1Vajf"
      }
    },
    {
      "cell_type": "code",
      "source": [
        "# Define a class to represent a student\n",
        "class Student:\n",
        "    # Private class variable to keep track of the total number of students\n",
        "    __numberofStudents = 0\n",
        "\n",
        "    # Public class variable shared by all instances, representing the school name\n",
        "    schoolname = \"bjb\"\n",
        "\n",
        "    # Constructor to initialize an instance of the Student class\n",
        "    def __init__(self, name, rollno, marks):\n",
        "        # Instance variable to store the name of the student\n",
        "        self.name = name\n",
        "        # Instance variable to store the roll number of the student\n",
        "        self.rollno = rollno\n",
        "        # Private instance variable to store the marks of the student\n",
        "        self.__marks = marks\n",
        "        # Increment the class variable tracking the number of students\n",
        "        # This maintains the correct count for all instances\n",
        "        self.numberofStudents = Student.__numberofStudents + 1\n",
        "        # Update the private class-level variable for the total number of students\n",
        "        Student.__numberofStudents = Student.__numberofStudents + 1\n",
        "\n",
        "    # Public method to retrieve the private marks of a student\n",
        "    def getmarks(self):\n",
        "        return self.__marks  # Return the marks stored privately\n",
        "\n",
        "    # Class method to retrieve the total number of student objects created\n",
        "    @classmethod\n",
        "    def get_no_of_students(Student):\n",
        "        return Student.__numberofStudents  # Access the private class variable\n",
        "\n",
        "    # Public method to update the marks of a student securely\n",
        "    def setmarks(self, newmarks, passcode):\n",
        "        # Check if the provided passcode matches the private authentication value\n",
        "        if passcode == self.__auth():\n",
        "            # If correct, update the marks\n",
        "            self.__marks = newmarks\n",
        "        else:\n",
        "            # Otherwise, print an error message\n",
        "            print(\"Wrong passcode\")\n",
        "\n",
        "    # Private method to return the authentication passcode\n",
        "    def __auth(self):\n",
        "        return \"1123\"  # Return the hardcoded authentication passcode\n",
        "\n",
        "    # Public method to simulate the student studying\n",
        "    def study(self):\n",
        "        print(f\"I am {str(self.rollno)}, and I am studying.\")\n",
        "\n",
        "    # Public method to simulate the student playing\n",
        "    def play(self):\n",
        "        print(\"I already studied, going to play.\")\n"
      ],
      "metadata": {
        "id": "2kNBtM8tVZDy"
      },
      "execution_count": null,
      "outputs": []
    },
    {
      "cell_type": "code",
      "source": [
        "class Student:\n",
        "    # Class variable to keep track of the total number of students\n",
        "    numberofStudents = 0\n",
        "\n",
        "    def __init__(self, name, rollno, marks):\n",
        "        # Instance variables for each student's name, roll number, and marks\n",
        "        self.name = name\n",
        "        self.rollno = rollno\n",
        "\n",
        "        # Private instance variable for marks, accessible only through getter and setter\n",
        "        self.__marks = marks\n",
        "\n",
        "        # Increment the instance variable `numberofStudents` (specific to each object)\n",
        "        self.numberofStudents += 1\n",
        "\n",
        "        # Increment the class variable `numberofStudents` (shared across all objects)\n",
        "        Student.numberofStudents = Student.numberofStudents + 1\n",
        "\n",
        "    # Getter method to access the private marks variable\n",
        "    def getmarks(self):\n",
        "        return self.__marks\n",
        "\n",
        "    # Setter method to update the private marks variable\n",
        "    def setmarks(self, newmarks, passcode):\n",
        "        # Allow modification only if the correct passcode is provided\n",
        "        if passcode == 1123:\n",
        "            self.__marks = newmarks\n",
        "        else:\n",
        "            print(\"Wrong passcode\")  # Print error message for incorrect passcode\n",
        "\n",
        "    # Instance method to simulate studying action\n",
        "    def study(self):\n",
        "        print(f\"I am {self.rollno}, I am studying\")\n",
        "\n",
        "    # Instance method to simulate playing action\n",
        "    def play(self):\n",
        "        print(\"I already studied, going to play\")\n"
      ],
      "metadata": {
        "id": "0IHu4nUqyg0B"
      },
      "execution_count": 103,
      "outputs": []
    },
    {
      "cell_type": "code",
      "source": [
        "class Student:\n",
        "    # Class variable to track the total number of student objects created\n",
        "    numberofStudents = 0\n",
        "\n",
        "    def __init__(self, name, rollno, marks):\n",
        "        # Instance variables for individual student details\n",
        "        self.name = name       # Student's name\n",
        "        self.rollno = rollno   # Student's roll number\n",
        "\n",
        "        # Private instance variable to store marks\n",
        "        self.__marks = marks\n",
        "\n",
        "        # Increment instance-level `numberofStudents` (not shared, local to each instance)\n",
        "        self.numberofStudents += 1\n",
        "\n",
        "        # Increment the class variable `numberofStudents` (shared across all instances)\n",
        "        Student.numberofStudents = Student.numberofStudents + 1\n",
        "\n",
        "    # Getter method to access the private `__marks` variable\n",
        "    def getmarks(self):\n",
        "        return self.__marks\n",
        "\n",
        "    # Setter method to modify the private `__marks` variable with validation\n",
        "    def setmarks(self, newmarks, passcode):\n",
        "        # Validate the provided passcode using the private `__auth` method\n",
        "        if passcode == self.__auth():\n",
        "            self.__marks = newmarks  # Update marks if passcode is correct\n",
        "        else:\n",
        "            print(\"wrong passcode\")  # Print error message if passcode is incorrect\n",
        "\n",
        "    # Private method for authentication\n",
        "    def __auth(self):\n",
        "        # Returns the hardcoded passcode for validation\n",
        "        return \"1123\"\n",
        "\n",
        "    # Instance method to simulate the student studying\n",
        "    def study(self):\n",
        "        # Prints a message including the roll number\n",
        "        print(f\"I am {self.rollno}, I am studying\")\n",
        "\n",
        "    # Instance method to simulate the student playing\n",
        "    def play(self):\n",
        "        # Prints a message indicating the student has completed studying\n",
        "        print(\"I already studied, going to play\")\n"
      ],
      "metadata": {
        "id": "K8lwvptH1cZa"
      },
      "execution_count": 104,
      "outputs": []
    },
    {
      "cell_type": "code",
      "source": [
        "class Student:\n",
        "    __numberofStudents = 0  # Private class variable to track total students\n",
        "\n",
        "    def __init__(self, name, rollno, marks):\n",
        "        self.name = name  # Instance variable for student's name\n",
        "        self.rollno = rollno  # Instance variable for student's roll number\n",
        "        self.__marks = marks  # Private instance variable for marks\n",
        "\n",
        "        # Increment the private class variable\n",
        "        Student.__numberofStudents += 1\n",
        "\n",
        "    @classmethod\n",
        "    def get_number_of_students(cls):\n",
        "        \"\"\"Class method to access the private class variable\"\"\"\n",
        "        return cls.__numberofStudents\n",
        "\n",
        "    def getmarks(self):\n",
        "        \"\"\"Getter method for private instance variable __marks\"\"\"\n",
        "        return self.__marks\n",
        "\n",
        "    def setmarks(self, newmarks, passcode):\n",
        "        \"\"\"Setter method with validation for private instance variable __marks\"\"\"\n",
        "        if passcode == self.__auth():\n",
        "            self.__marks = newmarks\n",
        "        else:\n",
        "            print(\"Wrong passcode\")\n",
        "\n",
        "    def __auth(self):\n",
        "        \"\"\"Private method for authentication\"\"\"\n",
        "        return \"1123\"\n",
        "\n",
        "    def study(self):\n",
        "        \"\"\"Simulate the student studying\"\"\"\n",
        "        print(f\"I am {self.rollno}, I am studying\")\n",
        "\n",
        "    def play(self):\n",
        "        \"\"\"Simulate the student playing\"\"\"\n",
        "        print(\"I already studied, going to play\")\n",
        "\n",
        "\n",
        "# Create student instances\n",
        "s1 = Student(\"Sipun\", 1234, 69)\n",
        "s2 = Student(\"Kapil\", 4567, 90)\n",
        "\n",
        "# Access the private class variable using the class method\n",
        "print(Student.get_number_of_students())  # Output: 2\n"
      ],
      "metadata": {
        "colab": {
          "base_uri": "https://localhost:8080/"
        },
        "id": "kPuhUYIl1foP",
        "outputId": "34247c5e-b0b6-41d2-a0dc-9657e32700d6"
      },
      "execution_count": 105,
      "outputs": [
        {
          "output_type": "stream",
          "name": "stdout",
          "text": [
            "2\n"
          ]
        }
      ]
    },
    {
      "cell_type": "code",
      "source": [],
      "metadata": {
        "id": "6EjXEJWeFUUX"
      },
      "execution_count": 105,
      "outputs": []
    },
    {
      "cell_type": "code",
      "source": [],
      "metadata": {
        "id": "NspeGjzR8F9q"
      },
      "execution_count": 105,
      "outputs": []
    },
    {
      "cell_type": "markdown",
      "source": [
        "# Inheritance\n"
      ],
      "metadata": {
        "id": "TL5kCZQS8Gda"
      }
    },
    {
      "cell_type": "markdown",
      "source": [
        "####simple inheritance class  --- Parent class --user and child class student"
      ],
      "metadata": {
        "id": "rdGcfwZmLgPW"
      }
    },
    {
      "cell_type": "code",
      "source": [
        "##user class is parent class\n",
        "class User:\n",
        "  def __init__(self,name,id):\n",
        "    self.name = name\n",
        "    self.id = id\n",
        "\n",
        "  def login(self):\n",
        "    print(\"P logged in \")\n",
        "\n",
        "  def logout(self):\n",
        "    print(\"p logged out\")"
      ],
      "metadata": {
        "id": "H3jy5eVQ8Jg6"
      },
      "execution_count": 106,
      "outputs": []
    },
    {
      "cell_type": "code",
      "source": [
        "#student class is child class which is inherited from user class\n",
        "\n",
        "class student(User):\n",
        "  def login(self):\n",
        "    print(\"student logged in \")\n"
      ],
      "metadata": {
        "id": "leHqoVZs8q3y"
      },
      "execution_count": 107,
      "outputs": []
    },
    {
      "cell_type": "code",
      "source": [
        "s1 = student(\"Sipun\",32)\n",
        "s1.login()\n",
        "s1.logout()"
      ],
      "metadata": {
        "colab": {
          "base_uri": "https://localhost:8080/"
        },
        "id": "jlKVGndr82xp",
        "outputId": "8994664e-f663-4c56-ba91-3c94924d0aa9"
      },
      "execution_count": 108,
      "outputs": [
        {
          "output_type": "stream",
          "name": "stdout",
          "text": [
            "student logged in \n",
            "p logged out\n"
          ]
        }
      ]
    },
    {
      "cell_type": "code",
      "source": [
        "class User:\n",
        "  def __init__(self,name,id):\n",
        "    self.name = name\n",
        "    self.id = id\n",
        "\n",
        "  def login(self):\n",
        "    print(\"P logged in \")\n",
        "\n",
        "  def logout(self):\n",
        "    print(\"p logged out\")"
      ],
      "metadata": {
        "id": "tj7BUX9I9JuB"
      },
      "execution_count": 109,
      "outputs": []
    },
    {
      "cell_type": "code",
      "source": [
        "class student(User):\n",
        "  def __init__(self,marks,rollno):\n",
        "    self.marks = marks\n",
        "    self.rollno = rollno\n",
        "  def login(self):\n",
        "    print(\"student logged in \")"
      ],
      "metadata": {
        "id": "WsHveZXe_dQq"
      },
      "execution_count": 110,
      "outputs": []
    },
    {
      "cell_type": "code",
      "source": [
        "s2 = student(90,1234)\n",
        "s2.login()\n",
        "s2.logout()"
      ],
      "metadata": {
        "colab": {
          "base_uri": "https://localhost:8080/"
        },
        "id": "7INjTdWx_3gx",
        "outputId": "4d563acd-2cbf-4db1-db23-ee0d84a368d6"
      },
      "execution_count": 111,
      "outputs": [
        {
          "output_type": "stream",
          "name": "stdout",
          "text": [
            "student logged in \n",
            "p logged out\n"
          ]
        }
      ]
    },
    {
      "cell_type": "code",
      "source": [
        "class User:\n",
        "  def __init__(self,name,id,age,passcode):\n",
        "    self.name = name\n",
        "    self.id = id\n",
        "    self.age = age\n",
        "    self.passcode = passcode\n",
        "\n",
        "  def login(self):\n",
        "    print(\"P logged in \")\n",
        "\n",
        "  def logout(self):\n",
        "    print(\"p logged out\")"
      ],
      "metadata": {
        "id": "-XLlLOcy_5_q"
      },
      "execution_count": 112,
      "outputs": []
    },
    {
      "cell_type": "code",
      "source": [
        "class student(User):\n",
        "  def __init__(self,marks,rollno,name,id,age,passcode):\n",
        "    self.marks = marks\n",
        "    self.rollno = rollno\n",
        "\n",
        "    self.name = name\n",
        "    self.id = id\n",
        "    self.age = age\n",
        "    self.passcode = passcode\n",
        "  def login(self):\n",
        "    print(\"student logged in \")"
      ],
      "metadata": {
        "id": "rQx2gVSjAlw_"
      },
      "execution_count": 113,
      "outputs": []
    },
    {
      "cell_type": "code",
      "source": [
        "s2 = student(90,1234,\"sipun\",1,25,\"9000\")\n",
        "s2.login()\n",
        "s2.logout()"
      ],
      "metadata": {
        "colab": {
          "base_uri": "https://localhost:8080/"
        },
        "id": "y1h-81ukAzet",
        "outputId": "7babf897-69ba-48eb-e91d-e6c13c186dfa"
      },
      "execution_count": 114,
      "outputs": [
        {
          "output_type": "stream",
          "name": "stdout",
          "text": [
            "student logged in \n",
            "p logged out\n"
          ]
        }
      ]
    },
    {
      "cell_type": "code",
      "source": [],
      "metadata": {
        "id": "9p7GtWX6A5jT"
      },
      "execution_count": 114,
      "outputs": []
    },
    {
      "cell_type": "markdown",
      "source": [
        "# Super() method with the above code no repetation of writing the attributes into the child class"
      ],
      "metadata": {
        "id": "Q-DX-GhyBd4z"
      }
    },
    {
      "cell_type": "code",
      "source": [
        "class User:\n",
        "  def __init__(self,name,id,age,passcode):\n",
        "    self.name = name\n",
        "    self.id = id\n",
        "    self.age = age\n",
        "    self.passcode = passcode\n",
        "\n",
        "  def login(self):\n",
        "    print(\"P logged in \")\n",
        "\n",
        "  def logout(self):\n",
        "    print(\"p logged out\")"
      ],
      "metadata": {
        "id": "nd0IYB54Bnup"
      },
      "execution_count": 115,
      "outputs": []
    },
    {
      "cell_type": "code",
      "source": [
        "class student(User):\n",
        "  def __init__(self,marks,rollno,name,id,age,passcode):\n",
        "    super().__init__(name,id,age,passcode)\n",
        "    self.marks = marks\n",
        "    self.rollno = rollno\n",
        "    #no need to mention the attributes name,id,age,passcode the super() method automatically inherited from the parent class\n",
        "\n",
        "\n",
        "  def login(self):\n",
        "    print(\"OTP sent \")\n",
        "    super().login()"
      ],
      "metadata": {
        "id": "ts28Rn8sBrRz"
      },
      "execution_count": 116,
      "outputs": []
    },
    {
      "cell_type": "code",
      "source": [
        "s3 = student(90,1234,\"sipun\",1,25,\"9000\")\n",
        "s3.login()\n",
        "s3.logout()"
      ],
      "metadata": {
        "colab": {
          "base_uri": "https://localhost:8080/"
        },
        "id": "tBeEhP4MBzQ7",
        "outputId": "506c3c60-cfd9-4d4e-c158-cb975a6b23c2"
      },
      "execution_count": 117,
      "outputs": [
        {
          "output_type": "stream",
          "name": "stdout",
          "text": [
            "OTP sent \n",
            "P logged in \n",
            "p logged out\n"
          ]
        }
      ]
    },
    {
      "cell_type": "code",
      "source": [],
      "metadata": {
        "id": "ljdlTi_qEIIq"
      },
      "execution_count": 117,
      "outputs": []
    },
    {
      "cell_type": "markdown",
      "source": [
        "###user class with public , protected and private attributes"
      ],
      "metadata": {
        "id": "-tUU6ExMPKMl"
      }
    },
    {
      "cell_type": "code",
      "source": [
        "class User:\n",
        "  def __init__(self):\n",
        "    print(\"user constructor\")\n",
        "    self.website = \"flipkart.com\"\n",
        "    self._field = \"ecommerce\"  #protected attributes\n",
        "    self.__duration = \"2 years\"  #private attributes\n",
        "\n",
        "  def login(self):\n",
        "    print(\" logged in \")\n",
        "\n",
        "  def logout(self):\n",
        "    print(\"logged out\")\n",
        "\n",
        "\n"
      ],
      "metadata": {
        "id": "tY4G4oTHDsNi"
      },
      "execution_count": 118,
      "outputs": []
    },
    {
      "cell_type": "code",
      "source": [
        "class buyer(User):\n",
        "    def __init__(self):\n",
        "        print(\"buyer constructor\")\n",
        "        super().__init__()\n",
        "        self.website = \"amazon.com\"\n",
        "        self.__name = \"sipun\"\n",
        "\n",
        "    def login(self):\n",
        "        print(\"OTP sent \")\n",
        "        super().logout()\n",
        "        print(\"mentor loggedin\")\n",
        "        print(self._field)  ### accessible\n",
        "        print(self.__name)  ### not accessible\n",
        "\n",
        "\n",
        "\n"
      ],
      "metadata": {
        "id": "Fjltrp8SEaD8"
      },
      "execution_count": 119,
      "outputs": []
    },
    {
      "cell_type": "code",
      "source": [
        "b1 = buyer()\n",
        "b1.login()\n"
      ],
      "metadata": {
        "colab": {
          "base_uri": "https://localhost:8080/"
        },
        "id": "tRfcmfe9FyJ4",
        "outputId": "2780938a-a74c-48b1-c25c-f8b89f2dd519"
      },
      "execution_count": 120,
      "outputs": [
        {
          "output_type": "stream",
          "name": "stdout",
          "text": [
            "buyer constructor\n",
            "user constructor\n",
            "OTP sent \n",
            "logged out\n",
            "mentor loggedin\n",
            "ecommerce\n",
            "sipun\n"
          ]
        }
      ]
    },
    {
      "cell_type": "code",
      "source": [
        "b1.login()"
      ],
      "metadata": {
        "colab": {
          "base_uri": "https://localhost:8080/"
        },
        "id": "CAwgObuULnFb",
        "outputId": "8bafb73b-b6e8-4047-f188-27e9147f0ab8"
      },
      "execution_count": 121,
      "outputs": [
        {
          "output_type": "stream",
          "name": "stdout",
          "text": [
            "OTP sent \n",
            "logged out\n",
            "mentor loggedin\n",
            "ecommerce\n",
            "sipun\n"
          ]
        }
      ]
    },
    {
      "cell_type": "code",
      "source": [],
      "metadata": {
        "id": "AEW0jWGaPfPY"
      },
      "execution_count": 121,
      "outputs": []
    },
    {
      "cell_type": "markdown",
      "source": [
        "# types of inheritnace simple\n"
      ],
      "metadata": {
        "id": "nQxYQ0BpEL50"
      }
    },
    {
      "cell_type": "code",
      "source": [
        "class Grandfather:\n",
        "  def __init__(self,name,age):\n",
        "    self.name = name\n",
        "    self.age = age\n",
        "\n",
        "  def show_details(self):\n",
        "    return f\"Name is : {self.name} and age is : {self.age}\"\n",
        "\n",
        "\n",
        "  def speak(self):\n",
        "    return \"Grandfather speaks wisely.\"\n",
        "\n",
        "\n",
        "class father(Grandfather):\n",
        "  def __init__(self,name,age,occupation):\n",
        "    super().__init__(name,age)\n",
        "    self.occupation = occupation\n",
        "\n",
        "\n",
        "  def show_occupation(self):\n",
        "    return f\"occupation is : {self.occupation}\"\n",
        "\n",
        "\n",
        "  def speak(self):\n",
        "    return 'father speaks slowly.'\n",
        "\n"
      ],
      "metadata": {
        "id": "YqnOvfqUEPDL"
      },
      "execution_count": 122,
      "outputs": []
    },
    {
      "cell_type": "code",
      "source": [
        "# Define a User class that will serve as the base class for the buyer class\n",
        "class User:\n",
        "    # Constructor to initialize a User object\n",
        "    def __init__(self):\n",
        "        print(\"User constructor\")  # Indicate that the User constructor is called\n",
        "        self.website = \"flipkart.com\"  # Instance variable to store the website of the user\n",
        "        self._field = \"ecommerce\"  # Protected attribute (accessible within subclasses and other classes)\n",
        "        self.__duration = \"2 years\"  # Private attribute (not directly accessible outside the class)\n",
        "\n",
        "    # Method for logging in\n",
        "    def login(self):\n",
        "        print(\"Logged in\")  # Print a message indicating that the user has logged in\n",
        "\n",
        "    # Method for logging out\n",
        "    def logout(self):\n",
        "        print(\"Logged out\")  # Print a message indicating that the user has logged out\n",
        "\n",
        "\n",
        "# Define a buyer class which inherits from the User class\n",
        "class Buyer(User):\n",
        "    # Constructor to initialize a Buyer object\n",
        "    def __init__(self):\n",
        "        print(\"Buyer constructor\")  # Indicate that the Buyer constructor is called\n",
        "        super().__init__()  # Call the constructor of the base class (User) to initialize inherited attributes\n",
        "        self.website = \"amazon.com\"  # Change the website attribute specifically for the Buyer class\n",
        "        self.__name = \"Sipun\"  # Private attribute for the buyer's name (not accessible outside the class)\n",
        "\n",
        "    # Method for logging in as a Buyer\n",
        "    def login(self):\n",
        "        print(\"OTP sent\")  # Print a message indicating that an OTP is sent for login\n",
        "        super().logout()  # Call the logout method from the base class (User)\n",
        "        print(\"Mentor logged in\")  # Print a message indicating that a mentor logged in (this seems to be a placeholder message)\n",
        "        print(self._field)  # Access the protected attribute '_field' from the User class (this is accessible)\n",
        "        print(self.__name)  # This will raise an error because '__name' is private to the Buyer class and cannot be accessed outside it\n",
        "\n",
        "\n",
        "# Create an object of the Buyer class\n",
        "b1 = Buyer()  # Instantiate a Buyer object\n",
        "b1.login()  # Call the login method of the Buyer class\n"
      ],
      "metadata": {
        "colab": {
          "base_uri": "https://localhost:8080/"
        },
        "id": "w4NreIDOW-Gq",
        "outputId": "539c181e-640b-489e-e76d-d5b8927c764f"
      },
      "execution_count": 131,
      "outputs": [
        {
          "output_type": "stream",
          "name": "stdout",
          "text": [
            "Buyer constructor\n",
            "User constructor\n",
            "OTP sent\n",
            "Logged out\n",
            "Mentor logged in\n",
            "ecommerce\n",
            "Sipun\n"
          ]
        }
      ]
    },
    {
      "cell_type": "code",
      "source": [
        "# Define a class to represent the Grandfather\n",
        "class Grandfather:\n",
        "    # Constructor to initialize a Grandfather object with name and age\n",
        "    def __init__(self, name, age):\n",
        "        self.name = name  # Instance variable to store the name\n",
        "        self.age = age    # Instance variable to store the age\n",
        "\n",
        "    # Method to display the details of the Grandfather\n",
        "    def show_details(self):\n",
        "        return f\"Name is: {self.name} and Age is: {self.age}\"  # Return a formatted string with name and age\n",
        "\n",
        "    # Method to define how the Grandfather speaks\n",
        "    def speak(self):\n",
        "        return \"Grandfather speaks wisely.\"  # A predefined message about Grandfather's speaking style\n",
        "\n",
        "\n",
        "# Define a class to represent the Father, inheriting from the Grandfather class\n",
        "class Father(Grandfather):\n",
        "    # Constructor to initialize a Father object\n",
        "    # The Father class adds an additional property: occupation\n",
        "    def __init__(self, name, age, occupation):\n",
        "        # Call the constructor of the Grandfather class to initialize name and age\n",
        "        super().__init__(name, age)\n",
        "        self.occupation = occupation  # Instance variable to store the occupation of the Father\n",
        "\n",
        "    # Method to display the Father's occupation\n",
        "    def show_occupation(self):\n",
        "        return f\"Occupation is: {self.occupation}\"  # Return a formatted string with the occupation\n",
        "\n",
        "    # Method to override the `speak` method from the Grandfather class\n",
        "    def speak(self):\n",
        "        return \"Father speaks slowly.\"  # A predefined message about Father's speaking style\n",
        "\n",
        "\n",
        "# Create an object of the Father class with name, age, and occupation\n",
        "# The Father class constructor requires 3 arguments: name, age, and occupation\n",
        "father_obj = Father(\"Sipun\", 25, \"programmer\")\n",
        "\n",
        "# Display the details of the Father using the inherited method from Grandfather\n",
        "print(father_obj.show_details())  # Output: \"Name is: Sipun and Age is: 25\"\n",
        "\n",
        "# Display the occupation of the Father using the Father's own method\n",
        "print(father_obj.show_occupation())  # Output: \"Occupation is: programmer\"\n",
        "\n",
        "# Display how the Father speaks using the overridden `speak` method\n",
        "print(father_obj.speak())  # Output: \"Father speaks slowly.\"\n"
      ],
      "metadata": {
        "colab": {
          "base_uri": "https://localhost:8080/"
        },
        "id": "QKonJWokVwAb",
        "outputId": "8ea02202-af80-458e-d09e-7ffd240cc26c"
      },
      "execution_count": 128,
      "outputs": [
        {
          "output_type": "stream",
          "name": "stdout",
          "text": [
            "Name is: Sipun and Age is: 25\n",
            "Occupation is: programmer\n",
            "Father speaks slowly.\n"
          ]
        }
      ]
    },
    {
      "cell_type": "code",
      "source": [
        "father_obj = Father(\"sipun\",25,\"programmer\")\n",
        "print(father_obj.show_details())\n",
        "print(father_obj.show_occupation())\n",
        "print(father_obj.speak())"
      ],
      "metadata": {
        "id": "u2FW5_U-LRbL",
        "colab": {
          "base_uri": "https://localhost:8080/"
        },
        "outputId": "cb7d860e-43bf-4036-9545-5597fa00f6f6"
      },
      "execution_count": 130,
      "outputs": [
        {
          "output_type": "stream",
          "name": "stdout",
          "text": [
            "Name is: sipun and Age is: 25\n",
            "Occupation is: programmer\n",
            "Father speaks slowly.\n"
          ]
        }
      ]
    },
    {
      "cell_type": "code",
      "source": [
        "class father:\n",
        "  def __init__(self,name,age):\n",
        "    self.name = name\n",
        "    self.age = age\n",
        "\n",
        "  def show_details(self):\n",
        "    return f'name is : {self.name} and age is :{self.age}'\n",
        "\n",
        "  def speak(self):\n",
        "    return \"father speaks slowly\"\n",
        "\n",
        "\n",
        "class child1(father):\n",
        "  def __init__(self,name,age,hobby):\n",
        "    super().__init__(name,age)\n",
        "    self.hobby = hobby\n",
        "  def show_hobby(self):\n",
        "    return f'hobby is :{self.hobby}'\n",
        "\n",
        "  def speak(self):\n",
        "      return \"child1 speaks good\"\n",
        "\n",
        "\n",
        "class child2(father):\n",
        "  def __init__(self,name,age,fav_subject):\n",
        "    super().__init__(name,age)\n",
        "    self.fav_subject = fav_subject\n",
        "\n",
        "  def show_fav_subject(self):\n",
        "    return f'favourite subject is :{self.fav_subject}'\n",
        "\n",
        "  def speak(self):\n",
        "      return \"child2 speaks verygood\"\n",
        "\n",
        "\n",
        "\n",
        "child1_obj = child1(\"sipun\",25,\"cricket\")\n",
        "print(child1_obj.show_details())\n",
        "print(child1_obj.show_hobby())\n",
        "\n",
        "print(\"=== \"* 20)\n",
        "\n",
        "child2_obj = child2(\"kapil\",26,\"maths\")\n",
        "print(child2_obj.show_details())\n",
        "print(child2_obj.show_fav_subject())\n"
      ],
      "metadata": {
        "colab": {
          "base_uri": "https://localhost:8080/"
        },
        "id": "SFwrbP8wZ-8O",
        "outputId": "99e4b269-1106-4632-c4dc-6a79836b7358"
      },
      "execution_count": 124,
      "outputs": [
        {
          "output_type": "stream",
          "name": "stdout",
          "text": [
            "name is : sipun and age is :25\n",
            "hobby is :cricket\n",
            "=== === === === === === === === === === === === === === === === === === === === \n",
            "name is : kapil and age is :26\n",
            "favourite subject is :maths\n"
          ]
        }
      ]
    },
    {
      "cell_type": "code",
      "source": [
        "# Define the base class \"father\"\n",
        "class Father:\n",
        "    # Constructor to initialize name and age for the father\n",
        "    def __init__(self, name, age):\n",
        "        self.name = name  # Instance variable to store the name\n",
        "        self.age = age    # Instance variable to store the age\n",
        "\n",
        "    # Method to display the father's details (name and age)\n",
        "    def show_details(self):\n",
        "        return f'Name is: {self.name} and Age is: {self.age}'\n",
        "\n",
        "    # Method to describe how the father speaks\n",
        "    def speak(self):\n",
        "        return \"Father speaks slowly\"\n",
        "\n",
        "\n",
        "# Define the \"child1\" class, which inherits from the \"Father\" class\n",
        "class Child1(Father):\n",
        "    # Constructor to initialize name, age, and hobby for child1\n",
        "    def __init__(self, name, age, hobby):\n",
        "        super().__init__(name, age)  # Call the parent (Father) constructor to set name and age\n",
        "        self.hobby = hobby           # Instance variable to store the hobby of child1\n",
        "\n",
        "    # Method to display the hobby of child1\n",
        "    def show_hobby(self):\n",
        "        return f'Hobby is: {self.hobby}'\n",
        "\n",
        "    # Override the \"speak\" method to provide a custom behavior for child1\n",
        "    def speak(self):\n",
        "        return \"Child1 speaks good\"\n",
        "\n",
        "\n",
        "# Define the \"child2\" class, which also inherits from the \"Father\" class\n",
        "class Child2(Father):\n",
        "    # Constructor to initialize name, age, and favorite subject for child2\n",
        "    def __init__(self, name, age, fav_subject):\n",
        "        super().__init__(name, age)  # Call the parent (Father) constructor to set name and age\n",
        "        self.fav_subject = fav_subject  # Instance variable to store the favorite subject of child2\n",
        "\n",
        "    # Method to display the favorite subject of child2\n",
        "    def show_fav_subject(self):\n",
        "        return f'Favorite subject is: {self.fav_subject}'\n",
        "\n",
        "    # Override the \"speak\" method to provide a custom behavior for child2\n",
        "    def speak(self):\n",
        "        return \"Child2 speaks very good\"\n",
        "\n",
        "\n",
        "# Create an instance of \"Child1\" and demonstrate its functionality\n",
        "child1_obj = Child1(\"Sipun\", 25, \"cricket\")  # Create an object of Child1\n",
        "print(child1_obj.show_details())            # Output the name and age of child1\n",
        "print(child1_obj.show_hobby())              # Output the hobby of child1\n",
        "\n",
        "print(\"=== \" * 20)  # Separator for better readability\n",
        "\n",
        "# Create an instance of \"Child2\" and demonstrate its functionality\n",
        "child2_obj = Child2(\"Kapil\", 26, \"maths\")   # Create an object of Child2\n",
        "print(child2_obj.show_details())            # Output the name and age of child2\n",
        "print(child2_obj.show_fav_subject())        # Output the favorite subject of child2\n"
      ],
      "metadata": {
        "id": "brAYMP6ZkZvg",
        "colab": {
          "base_uri": "https://localhost:8080/"
        },
        "outputId": "c2059d95-a2de-4e34-8361-577f5889aea2"
      },
      "execution_count": 125,
      "outputs": [
        {
          "output_type": "stream",
          "name": "stdout",
          "text": [
            "Name is: Sipun and Age is: 25\n",
            "Hobby is: cricket\n",
            "=== === === === === === === === === === === === === === === === === === === === \n",
            "Name is: Kapil and Age is: 26\n",
            "Favorite subject is: maths\n"
          ]
        }
      ]
    }
  ]
}